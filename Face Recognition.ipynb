{
 "cells": [
  {
   "cell_type": "code",
   "execution_count": null,
   "id": "387bb592",
   "metadata": {},
   "outputs": [],
   "source": [
    "import cv2 as cv"
   ]
  },
  {
   "cell_type": "code",
   "execution_count": null,
   "id": "de016913",
   "metadata": {},
   "outputs": [],
   "source": [
    "# video_cap = cv.VideoCapture(0)\n",
    "# while True:\n",
    "#     ret, video_data = video_cap.read()\n",
    "#     cv.imshow(\"Video Live\",video_data)\n",
    "#     if cv.waitKey(10) == ord(\"x\"):\n",
    "#         break\n",
    "# video_cap.release()\n"
   ]
  },
  {
   "cell_type": "code",
   "execution_count": null,
   "id": "1322f4be",
   "metadata": {},
   "outputs": [],
   "source": [
    "face_cap = cv.CascadeClassifier(\"haarcascade_frontalface_default.xml\")\n",
    "video_cap = cv.VideoCapture(0)\n",
    "while True:\n",
    "    ret,video_data = video_cap.read()\n",
    "    col = cv.cvtColor(video_data,cv.COLOR_BGR2GRAY)\n",
    "    faces = face_cap.detectMultiScale(\n",
    "        col,\n",
    "        scaleFactor=1.1,\n",
    "        minNeighbors=5,\n",
    "        minSize=(30,30),\n",
    "        flags=cv.CASCADE_SCALE_IMAGE\n",
    "    )\n",
    "    for(x,y,w,h) in faces:\n",
    "        cv.rectangle(video_data,(x,y),(x+w,y+h),(0,0,255),2)\n",
    "    \n",
    "    cv.imshow(\"Video Live\",video_data)\n",
    "    if cv.waitKey(1) & 0xFF == ord('x'):\n",
    "        break\n",
    "##video_cap.release()\n",
    "cv.destroyAllWindows()"
   ]
  },
  {
   "cell_type": "code",
   "execution_count": null,
   "id": "ae6282d6",
   "metadata": {},
   "outputs": [],
   "source": [
    "face_cap = cv.CascadeClassifier(\"haarcascade_eye.xml\")\n",
    "video_cap = cv.VideoCapture(0)\n",
    "while True:\n",
    "    ret,video_data = video_cap.read()\n",
    "    col = cv.cvtColor(video_data,cv.COLOR_BGR2GRAY)\n",
    "    faces = face_cap.detectMultiScale(\n",
    "        col,\n",
    "        scaleFactor=1.1,\n",
    "        minNeighbors=5,\n",
    "        minSize=(30,30),\n",
    "        flags=cv.CASCADE_SCALE_IMAGE\n",
    "    )\n",
    "    for(x,y,w,h) in faces:\n",
    "        cv.rectangle(video_data,(x,y),(x+w,y+h),(0,0,255),2)\n",
    "    \n",
    "    cv.imshow(\"Video Live\",video_data)\n",
    "    if cv.waitKey(1) & 0xFF == ord('x'):\n",
    "        break\n",
    "##video_cap.release()\n",
    "cv.destroyAllWindows()"
   ]
  },
  {
   "cell_type": "code",
   "execution_count": null,
   "id": "9368239c",
   "metadata": {},
   "outputs": [],
   "source": [
    "face_cap = cv.CascadeClassifier(\"haarcascade_eye.xml\")\n",
    "video_cap = cv.VideoCapture(0)\n",
    "while True:\n",
    "    ret,video_data = video_cap.read()\n",
    "    col = cv.cvtColor(video_data,cv.COLOR_BGR2GRAY)\n",
    "    faces = face_cap.detectMultiScale(\n",
    "        col,\n",
    "        scaleFactor=1.1,\n",
    "        minNeighbors=5,\n",
    "        minSize=(30,30),\n",
    "        flags=cv.CASCADE_SCALE_IMAGE\n",
    "    )\n",
    "    for(x,y,w,h) in faces:\n",
    "        cv.rectangle(video_data,(x,y),(x+w,y+h),(0,0,255),2)\n",
    "    \n",
    "    cv.imshow(\"Video Live\",video_data)\n",
    "    if cv.waitKey(1) & 0xFF == ord('x'):\n",
    "        break\n",
    "##video_cap.release()\n",
    "cv.destroyAllWindows()"
   ]
  },
  {
   "cell_type": "code",
   "execution_count": null,
   "id": "d2a0f94c",
   "metadata": {},
   "outputs": [],
   "source": []
  }
 ],
 "metadata": {
  "kernelspec": {
   "display_name": "Python 3 (ipykernel)",
   "language": "python",
   "name": "python3"
  },
  "language_info": {
   "codemirror_mode": {
    "name": "ipython",
    "version": 3
   },
   "file_extension": ".py",
   "mimetype": "text/x-python",
   "name": "python",
   "nbconvert_exporter": "python",
   "pygments_lexer": "ipython3",
   "version": "3.9.13"
  }
 },
 "nbformat": 4,
 "nbformat_minor": 5
}
